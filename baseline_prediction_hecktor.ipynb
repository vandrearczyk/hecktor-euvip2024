{
  "nbformat": 4,
  "nbformat_minor": 0,
  "metadata": {
    "colab": {
      "provenance": [],
      "authorship_tag": "ABX9TyMhwCTSxO7SKEUYEK+prsoD",
      "include_colab_link": true
    },
    "kernelspec": {
      "name": "python3",
      "display_name": "Python 3"
    },
    "language_info": {
      "name": "python"
    }
  },
  "cells": [
    {
      "cell_type": "markdown",
      "metadata": {
        "id": "view-in-github",
        "colab_type": "text"
      },
      "source": [
        "<a href=\"https://colab.research.google.com/github/vandrearczyk/hecktor-euvip2024/blob/main/baseline_prediction_hecktor.ipynb\" target=\"_parent\"><img src=\"https://colab.research.google.com/assets/colab-badge.svg\" alt=\"Open In Colab\"/></a>"
      ]
    },
    {
      "cell_type": "code",
      "execution_count": 3,
      "metadata": {
        "colab": {
          "base_uri": "https://localhost:8080/"
        },
        "id": "Jfy5IDYsLAAE",
        "outputId": "94a94018-8305-4553-8422-8ee665205d75"
      },
      "outputs": [
        {
          "output_type": "stream",
          "name": "stdout",
          "text": [
            "Collecting scikit-survival\n",
            "  Downloading scikit_survival-0.23.0-cp310-cp310-manylinux_2_17_x86_64.manylinux2014_x86_64.whl.metadata (48 kB)\n",
            "\u001b[?25l     \u001b[90m━━━━━━━━━━━━━━━━━━━━━━━━━━━━━━━━━━━━━━━━\u001b[0m \u001b[32m0.0/49.0 kB\u001b[0m \u001b[31m?\u001b[0m eta \u001b[36m-:--:--\u001b[0m\r\u001b[2K     \u001b[90m━━━━━━━━━━━━━━━━━━━━━━━━━━━━━━━━━━━━━━━━\u001b[0m \u001b[32m49.0/49.0 kB\u001b[0m \u001b[31m1.9 MB/s\u001b[0m eta \u001b[36m0:00:00\u001b[0m\n",
            "\u001b[?25hRequirement already satisfied: ecos in /usr/local/lib/python3.10/dist-packages (from scikit-survival) (2.0.14)\n",
            "Requirement already satisfied: joblib in /usr/local/lib/python3.10/dist-packages (from scikit-survival) (1.4.2)\n",
            "Requirement already satisfied: numexpr in /usr/local/lib/python3.10/dist-packages (from scikit-survival) (2.10.1)\n",
            "Requirement already satisfied: numpy in /usr/local/lib/python3.10/dist-packages (from scikit-survival) (1.26.4)\n",
            "Requirement already satisfied: osqp!=0.6.0,!=0.6.1 in /usr/local/lib/python3.10/dist-packages (from scikit-survival) (0.6.7.post0)\n",
            "Requirement already satisfied: pandas>=1.0.5 in /usr/local/lib/python3.10/dist-packages (from scikit-survival) (2.1.4)\n",
            "Requirement already satisfied: scipy>=1.3.2 in /usr/local/lib/python3.10/dist-packages (from scikit-survival) (1.13.1)\n",
            "Collecting scikit-learn<1.6,>=1.4.0 (from scikit-survival)\n",
            "  Downloading scikit_learn-1.5.1-cp310-cp310-manylinux_2_17_x86_64.manylinux2014_x86_64.whl.metadata (12 kB)\n",
            "Requirement already satisfied: qdldl in /usr/local/lib/python3.10/dist-packages (from osqp!=0.6.0,!=0.6.1->scikit-survival) (0.1.7.post4)\n",
            "Requirement already satisfied: python-dateutil>=2.8.2 in /usr/local/lib/python3.10/dist-packages (from pandas>=1.0.5->scikit-survival) (2.8.2)\n",
            "Requirement already satisfied: pytz>=2020.1 in /usr/local/lib/python3.10/dist-packages (from pandas>=1.0.5->scikit-survival) (2024.1)\n",
            "Requirement already satisfied: tzdata>=2022.1 in /usr/local/lib/python3.10/dist-packages (from pandas>=1.0.5->scikit-survival) (2024.1)\n",
            "Requirement already satisfied: threadpoolctl>=3.1.0 in /usr/local/lib/python3.10/dist-packages (from scikit-learn<1.6,>=1.4.0->scikit-survival) (3.5.0)\n",
            "Requirement already satisfied: six>=1.5 in /usr/local/lib/python3.10/dist-packages (from python-dateutil>=2.8.2->pandas>=1.0.5->scikit-survival) (1.16.0)\n",
            "Downloading scikit_survival-0.23.0-cp310-cp310-manylinux_2_17_x86_64.manylinux2014_x86_64.whl (3.7 MB)\n",
            "\u001b[2K   \u001b[90m━━━━━━━━━━━━━━━━━━━━━━━━━━━━━━━━━━━━━━━━\u001b[0m \u001b[32m3.7/3.7 MB\u001b[0m \u001b[31m34.2 MB/s\u001b[0m eta \u001b[36m0:00:00\u001b[0m\n",
            "\u001b[?25hDownloading scikit_learn-1.5.1-cp310-cp310-manylinux_2_17_x86_64.manylinux2014_x86_64.whl (13.4 MB)\n",
            "\u001b[2K   \u001b[90m━━━━━━━━━━━━━━━━━━━━━━━━━━━━━━━━━━━━━━━━\u001b[0m \u001b[32m13.4/13.4 MB\u001b[0m \u001b[31m51.8 MB/s\u001b[0m eta \u001b[36m0:00:00\u001b[0m\n",
            "\u001b[?25hInstalling collected packages: scikit-learn, scikit-survival\n",
            "  Attempting uninstall: scikit-learn\n",
            "    Found existing installation: scikit-learn 1.3.2\n",
            "    Uninstalling scikit-learn-1.3.2:\n",
            "      Successfully uninstalled scikit-learn-1.3.2\n",
            "Successfully installed scikit-learn-1.5.1 scikit-survival-0.23.0\n"
          ]
        }
      ],
      "source": [
        "! pip install scikit-survival\n",
        "\n",
        "import numpy as np\n",
        "import pandas as pd\n",
        "from sksurv.datasets import get_x_y\n",
        "from sksurv.linear_model import CoxPHSurvivalAnalysis\n",
        "from sksurv.ensemble import RandomSurvivalForest\n",
        "from sksurv.metrics import concordance_index_censored\n",
        "from sklearn.model_selection import train_test_split"
      ]
    },
    {
      "cell_type": "code",
      "source": [
        "from google.colab import files\n",
        "\n",
        "uploaded = files.upload()"
      ],
      "metadata": {
        "colab": {
          "base_uri": "https://localhost:8080/",
          "height": 754
        },
        "id": "Skk6sbe6LXb6",
        "outputId": "5cfb48c4-ecc3-4f04-fc3a-8468fcd1d5d4"
      },
      "execution_count": 4,
      "outputs": [
        {
          "output_type": "display_data",
          "data": {
            "text/plain": [
              "<IPython.core.display.HTML object>"
            ],
            "text/html": [
              "\n",
              "     <input type=\"file\" id=\"files-017c2366-d534-4126-a72d-54f2e90d0a90\" name=\"files[]\" multiple disabled\n",
              "        style=\"border:none\" />\n",
              "     <output id=\"result-017c2366-d534-4126-a72d-54f2e90d0a90\">\n",
              "      Upload widget is only available when the cell has been executed in the\n",
              "      current browser session. Please rerun this cell to enable.\n",
              "      </output>\n",
              "      <script>// Copyright 2017 Google LLC\n",
              "//\n",
              "// Licensed under the Apache License, Version 2.0 (the \"License\");\n",
              "// you may not use this file except in compliance with the License.\n",
              "// You may obtain a copy of the License at\n",
              "//\n",
              "//      http://www.apache.org/licenses/LICENSE-2.0\n",
              "//\n",
              "// Unless required by applicable law or agreed to in writing, software\n",
              "// distributed under the License is distributed on an \"AS IS\" BASIS,\n",
              "// WITHOUT WARRANTIES OR CONDITIONS OF ANY KIND, either express or implied.\n",
              "// See the License for the specific language governing permissions and\n",
              "// limitations under the License.\n",
              "\n",
              "/**\n",
              " * @fileoverview Helpers for google.colab Python module.\n",
              " */\n",
              "(function(scope) {\n",
              "function span(text, styleAttributes = {}) {\n",
              "  const element = document.createElement('span');\n",
              "  element.textContent = text;\n",
              "  for (const key of Object.keys(styleAttributes)) {\n",
              "    element.style[key] = styleAttributes[key];\n",
              "  }\n",
              "  return element;\n",
              "}\n",
              "\n",
              "// Max number of bytes which will be uploaded at a time.\n",
              "const MAX_PAYLOAD_SIZE = 100 * 1024;\n",
              "\n",
              "function _uploadFiles(inputId, outputId) {\n",
              "  const steps = uploadFilesStep(inputId, outputId);\n",
              "  const outputElement = document.getElementById(outputId);\n",
              "  // Cache steps on the outputElement to make it available for the next call\n",
              "  // to uploadFilesContinue from Python.\n",
              "  outputElement.steps = steps;\n",
              "\n",
              "  return _uploadFilesContinue(outputId);\n",
              "}\n",
              "\n",
              "// This is roughly an async generator (not supported in the browser yet),\n",
              "// where there are multiple asynchronous steps and the Python side is going\n",
              "// to poll for completion of each step.\n",
              "// This uses a Promise to block the python side on completion of each step,\n",
              "// then passes the result of the previous step as the input to the next step.\n",
              "function _uploadFilesContinue(outputId) {\n",
              "  const outputElement = document.getElementById(outputId);\n",
              "  const steps = outputElement.steps;\n",
              "\n",
              "  const next = steps.next(outputElement.lastPromiseValue);\n",
              "  return Promise.resolve(next.value.promise).then((value) => {\n",
              "    // Cache the last promise value to make it available to the next\n",
              "    // step of the generator.\n",
              "    outputElement.lastPromiseValue = value;\n",
              "    return next.value.response;\n",
              "  });\n",
              "}\n",
              "\n",
              "/**\n",
              " * Generator function which is called between each async step of the upload\n",
              " * process.\n",
              " * @param {string} inputId Element ID of the input file picker element.\n",
              " * @param {string} outputId Element ID of the output display.\n",
              " * @return {!Iterable<!Object>} Iterable of next steps.\n",
              " */\n",
              "function* uploadFilesStep(inputId, outputId) {\n",
              "  const inputElement = document.getElementById(inputId);\n",
              "  inputElement.disabled = false;\n",
              "\n",
              "  const outputElement = document.getElementById(outputId);\n",
              "  outputElement.innerHTML = '';\n",
              "\n",
              "  const pickedPromise = new Promise((resolve) => {\n",
              "    inputElement.addEventListener('change', (e) => {\n",
              "      resolve(e.target.files);\n",
              "    });\n",
              "  });\n",
              "\n",
              "  const cancel = document.createElement('button');\n",
              "  inputElement.parentElement.appendChild(cancel);\n",
              "  cancel.textContent = 'Cancel upload';\n",
              "  const cancelPromise = new Promise((resolve) => {\n",
              "    cancel.onclick = () => {\n",
              "      resolve(null);\n",
              "    };\n",
              "  });\n",
              "\n",
              "  // Wait for the user to pick the files.\n",
              "  const files = yield {\n",
              "    promise: Promise.race([pickedPromise, cancelPromise]),\n",
              "    response: {\n",
              "      action: 'starting',\n",
              "    }\n",
              "  };\n",
              "\n",
              "  cancel.remove();\n",
              "\n",
              "  // Disable the input element since further picks are not allowed.\n",
              "  inputElement.disabled = true;\n",
              "\n",
              "  if (!files) {\n",
              "    return {\n",
              "      response: {\n",
              "        action: 'complete',\n",
              "      }\n",
              "    };\n",
              "  }\n",
              "\n",
              "  for (const file of files) {\n",
              "    const li = document.createElement('li');\n",
              "    li.append(span(file.name, {fontWeight: 'bold'}));\n",
              "    li.append(span(\n",
              "        `(${file.type || 'n/a'}) - ${file.size} bytes, ` +\n",
              "        `last modified: ${\n",
              "            file.lastModifiedDate ? file.lastModifiedDate.toLocaleDateString() :\n",
              "                                    'n/a'} - `));\n",
              "    const percent = span('0% done');\n",
              "    li.appendChild(percent);\n",
              "\n",
              "    outputElement.appendChild(li);\n",
              "\n",
              "    const fileDataPromise = new Promise((resolve) => {\n",
              "      const reader = new FileReader();\n",
              "      reader.onload = (e) => {\n",
              "        resolve(e.target.result);\n",
              "      };\n",
              "      reader.readAsArrayBuffer(file);\n",
              "    });\n",
              "    // Wait for the data to be ready.\n",
              "    let fileData = yield {\n",
              "      promise: fileDataPromise,\n",
              "      response: {\n",
              "        action: 'continue',\n",
              "      }\n",
              "    };\n",
              "\n",
              "    // Use a chunked sending to avoid message size limits. See b/62115660.\n",
              "    let position = 0;\n",
              "    do {\n",
              "      const length = Math.min(fileData.byteLength - position, MAX_PAYLOAD_SIZE);\n",
              "      const chunk = new Uint8Array(fileData, position, length);\n",
              "      position += length;\n",
              "\n",
              "      const base64 = btoa(String.fromCharCode.apply(null, chunk));\n",
              "      yield {\n",
              "        response: {\n",
              "          action: 'append',\n",
              "          file: file.name,\n",
              "          data: base64,\n",
              "        },\n",
              "      };\n",
              "\n",
              "      let percentDone = fileData.byteLength === 0 ?\n",
              "          100 :\n",
              "          Math.round((position / fileData.byteLength) * 100);\n",
              "      percent.textContent = `${percentDone}% done`;\n",
              "\n",
              "    } while (position < fileData.byteLength);\n",
              "  }\n",
              "\n",
              "  // All done.\n",
              "  yield {\n",
              "    response: {\n",
              "      action: 'complete',\n",
              "    }\n",
              "  };\n",
              "}\n",
              "\n",
              "scope.google = scope.google || {};\n",
              "scope.google.colab = scope.google.colab || {};\n",
              "scope.google.colab._files = {\n",
              "  _uploadFiles,\n",
              "  _uploadFilesContinue,\n",
              "};\n",
              "})(self);\n",
              "</script> "
            ]
          },
          "metadata": {}
        },
        {
          "output_type": "stream",
          "name": "stdout",
          "text": [
            "Saving features_album_GBM-UPENN-OS_MR_FLAIR-Edema.csv to features_album_GBM-UPENN-OS_MR_FLAIR-Edema.csv\n",
            "Saving features_album_GBM-UPENN-OS_MR_FLAIR-ET.csv to features_album_GBM-UPENN-OS_MR_FLAIR-ET.csv\n",
            "Saving features_album_GBM-UPENN-OS_MR_FLAIR-ET-NET.csv to features_album_GBM-UPENN-OS_MR_FLAIR-ET-NET.csv\n",
            "Saving features_album_GBM-UPENN-OS_MR_FLAIR-ET-NET-Edema.csv to features_album_GBM-UPENN-OS_MR_FLAIR-ET-NET-Edema.csv\n",
            "Saving features_album_GBM-UPENN-OS_MR_FLAIR-NET.csv to features_album_GBM-UPENN-OS_MR_FLAIR-NET.csv\n",
            "Saving features_album_GBM-UPENN-OS_MR_T1c-Edema.csv to features_album_GBM-UPENN-OS_MR_T1c-Edema.csv\n",
            "Saving features_album_GBM-UPENN-OS_MR_T1c-ET.csv to features_album_GBM-UPENN-OS_MR_T1c-ET.csv\n",
            "Saving features_album_GBM-UPENN-OS_MR_T1c-ET-NET.csv to features_album_GBM-UPENN-OS_MR_T1c-ET-NET.csv\n",
            "Saving features_album_GBM-UPENN-OS_MR_T1c-ET-NET-Edema.csv to features_album_GBM-UPENN-OS_MR_T1c-ET-NET-Edema.csv\n",
            "Saving features_album_GBM-UPENN-OS_MR_T1c-NET.csv to features_album_GBM-UPENN-OS_MR_T1c-NET.csv\n",
            "Saving features_album_GBM-UPENN-OS_MR_T1-Edema.csv to features_album_GBM-UPENN-OS_MR_T1-Edema.csv\n",
            "Saving features_album_GBM-UPENN-OS_MR_T1-ET.csv to features_album_GBM-UPENN-OS_MR_T1-ET.csv\n",
            "Saving features_album_GBM-UPENN-OS_MR_T1-ET-NET.csv to features_album_GBM-UPENN-OS_MR_T1-ET-NET.csv\n",
            "Saving features_album_GBM-UPENN-OS_MR_T1-ET-NET-Edema.csv to features_album_GBM-UPENN-OS_MR_T1-ET-NET-Edema.csv\n",
            "Saving features_album_GBM-UPENN-OS_MR_T1-NET.csv to features_album_GBM-UPENN-OS_MR_T1-NET.csv\n",
            "Saving features_album_GBM-UPENN-OS_MR_T2-Edema.csv to features_album_GBM-UPENN-OS_MR_T2-Edema.csv\n",
            "Saving features_album_GBM-UPENN-OS_MR_T2-ET.csv to features_album_GBM-UPENN-OS_MR_T2-ET.csv\n",
            "Saving features_album_GBM-UPENN-OS_MR_T2-ET-NET.csv to features_album_GBM-UPENN-OS_MR_T2-ET-NET.csv\n",
            "Saving features_album_GBM-UPENN-OS_MR_T2-ET-NET-Edema.csv to features_album_GBM-UPENN-OS_MR_T2-ET-NET-Edema.csv\n",
            "Saving features_album_GBM-UPENN-OS_MR_T2-NET.csv to features_album_GBM-UPENN-OS_MR_T2-NET.csv\n"
          ]
        }
      ]
    },
    {
      "cell_type": "code",
      "source": [
        "# Combine all uploaded CSV files into one DataFrame\n",
        "dfs = []\n",
        "for filename in uploaded.keys():\n",
        "    if filename.endswith('.csv'):\n",
        "        df = pd.read_csv(filename)\n",
        "        dfs.append(df)\n",
        "\n",
        "combined_df = pd.concat(dfs, ignore_index=True)\n",
        "# print(combined_df)"
      ],
      "metadata": {
        "id": "Npe1dr1TNe77"
      },
      "execution_count": 9,
      "outputs": []
    },
    {
      "cell_type": "code",
      "source": [
        "# Keep only the first three columns\n",
        "first_three_columns = combined_df.iloc[:, :3]\n",
        "\n",
        "# Keep columns that start with \"original_intensity\"\n",
        "original_intensity_columns = combined_df.filter(like=\"original_intensity\")\n",
        "\n",
        "# Combine the two subsets\n",
        "filtered_df = pd.concat([first_three_columns, original_intensity_columns], axis=1)\n",
        "\n",
        "# Print the filtered DataFrame\n",
        "print(filtered_df.keys())"
      ],
      "metadata": {
        "colab": {
          "base_uri": "https://localhost:8080/"
        },
        "id": "aS3QJstpNzoO",
        "outputId": "d3ba33ce-7add-48f9-c5e2-0fda6f072f30"
      },
      "execution_count": 10,
      "outputs": [
        {
          "output_type": "stream",
          "name": "stdout",
          "text": [
            "Index(['PatientID', 'Modality', 'ROI', 'original_intensity_10Percentile',\n",
            "       'original_intensity_90Percentile', 'original_intensity_Energy',\n",
            "       'original_intensity_Entropy', 'original_intensity_InterquartileRange',\n",
            "       'original_intensity_Kurtosis', 'original_intensity_Maximum',\n",
            "       'original_intensity_Mean', 'original_intensity_MeanAbsoluteDeviation',\n",
            "       'original_intensity_Median', 'original_intensity_Minimum',\n",
            "       'original_intensity_Range',\n",
            "       'original_intensity_RobustMeanAbsoluteDeviation',\n",
            "       'original_intensity_RootMeanSquared', 'original_intensity_Skewness',\n",
            "       'original_intensity_TotalEnergy', 'original_intensity_Uniformity',\n",
            "       'original_intensity_Variance'],\n",
            "      dtype='object')\n"
          ]
        }
      ]
    },
    {
      "cell_type": "code",
      "source": [
        "# Identify feature columns that start with 'original_intensity_'\n",
        "feature_columns = [col for col in combined_df.columns if col.startswith('original_intensity_')]\n",
        "\n",
        "# Melt the DataFrame based on 'PatientID', 'Modality', 'ROI', and feature columns\n",
        "melted_df = combined_df.melt(id_vars=['PatientID', 'Modality', 'ROI'], value_vars=feature_columns, var_name='Feature')\n",
        "\n",
        "# Create a new column that combines 'ROI', 'Modality', and 'Feature'\n",
        "melted_df['Combined'] = melted_df['ROI'] + '_' + melted_df['Modality'] + '_' + melted_df['Feature']\n",
        "\n",
        "# Pivot the table so that 'Combined' becomes columns, and values are filled in\n",
        "pivoted_df = melted_df.pivot_table(index='PatientID', columns='Combined', values='value')\n",
        "\n",
        "# Reset the index to make 'PatientID' a column again\n",
        "pivoted_df.reset_index(inplace=True)\n",
        "\n",
        "# Print the resulting DataFrame\n",
        "# print(pivoted_df)"
      ],
      "metadata": {
        "id": "2SM42wwLN9tx"
      },
      "execution_count": 12,
      "outputs": []
    },
    {
      "cell_type": "code",
      "source": [
        "# Create a Dummy Ground Truth DataFrame for survival prediction\n",
        "np.random.seed(42)  # For reproducibility\n",
        "n_samples = len(pivoted_df)\n",
        "\n",
        "# Randomly generate survival times and status (1 for event occurred, 0 for censored)\n",
        "survival_times = np.random.uniform(5, 100, size=n_samples)  # Survival time days\n",
        "survival_status = np.random.randint(0, 2, size=n_samples)   # Binary status\n",
        "\n",
        "# Add these to the pivoted DataFrame as ground truth\n",
        "pivoted_df['SurvivalTime'] = survival_times\n",
        "pivoted_df['SurvivalStatus'] = survival_status\n",
        "\n",
        "# Prepare the data for training\n",
        "X = pivoted_df.drop(columns=['PatientID', 'SurvivalTime', 'SurvivalStatus'])\n",
        "y = np.array([(status, time) for status, time in zip(pivoted_df['SurvivalStatus'], pivoted_df['SurvivalTime'])],\n",
        "             dtype=[('event', 'bool'), ('time', 'float')])\n",
        "\n",
        "# Handle missing values by filling them with the mean\n",
        "X = X.fillna(X.mean())\n",
        "\n",
        "# Split the data into training and testing sets\n",
        "X_train, X_test, y_train, y_test = train_test_split(X, y, test_size=0.2, random_state=42)\n",
        "\n",
        "# Train a survival model (e.g., Random Survival Forest)\n",
        "model = RandomSurvivalForest(n_estimators=100, min_samples_split=10, min_samples_leaf=15, random_state=42)\n",
        "model.fit(X_train, y_train)\n",
        "\n",
        "# Evaluate the model using Concordance Index\n",
        "cindex_train = concordance_index_censored(y_train['event'], y_train['time'], model.predict(X_train))[0]\n",
        "cindex_test = concordance_index_censored(y_test['event'], y_test['time'], model.predict(X_test))[0]\n",
        "\n",
        "print(f'Concordance Index (Train): {cindex_train:.2f}')\n",
        "print(f'Concordance Index (Test): {cindex_test:.2f}')"
      ],
      "metadata": {
        "colab": {
          "base_uri": "https://localhost:8080/"
        },
        "id": "C8NqwuKzOCbe",
        "outputId": "7c6e25e4-0414-4728-f8e8-531beb5c184f"
      },
      "execution_count": 13,
      "outputs": [
        {
          "output_type": "stream",
          "name": "stdout",
          "text": [
            "Concordance Index (Train): 0.83\n",
            "Concordance Index (Test): 0.53\n"
          ]
        }
      ]
    }
  ]
}